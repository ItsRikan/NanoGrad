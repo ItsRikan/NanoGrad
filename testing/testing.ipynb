{
 "cells": [
  {
   "cell_type": "code",
   "execution_count": 1,
   "id": "2d623d0c",
   "metadata": {},
   "outputs": [],
   "source": [
    "from engine import Matrics\n",
    "from model import Sequential\n",
    "import functional as F\n",
    "from nn import Linear,BatchNorm1D,Tanh,Softmax,ReLU, Adam,AdaGrad,SGD"
   ]
  },
  {
   "cell_type": "code",
   "execution_count": 2,
   "id": "1bc930b7",
   "metadata": {},
   "outputs": [],
   "source": [
    "m=Sequential([Linear(4,8,bias=False),BatchNorm1D(1,8),Tanh(),Linear(8,1)])"
   ]
  },
  {
   "cell_type": "code",
   "execution_count": 3,
   "id": "e6e3f49f",
   "metadata": {},
   "outputs": [],
   "source": [
    "X=[[100,200,300,400],[200,300,400,500],[300,400,500,600],[400,500,600,700],[500,600,700,800]]\n",
    "y=[5,6,7,8,9]\n",
    "X=Matrics(X)\n",
    "y=Matrics(y)\n",
    "optim=Adam(m.parameters())"
   ]
  },
  {
   "cell_type": "code",
   "execution_count": 4,
   "id": "0d38c27f",
   "metadata": {},
   "outputs": [
    {
     "name": "stdout",
     "output_type": "stream",
     "text": [
      "[[0.27235469222068787, 0.14588196575641632, -0.38651302456855774, 0.09723923355340958, 0.04509107396006584, 0.009821329265832901, -0.3346981406211853, 0.07746759057044983], [0.5809035301208496, 0.31550610065460205, -0.38128921389579773, 0.39017969369888306, -0.2939241826534271, -0.4173630177974701, -0.5751477479934692, -0.6009880304336548], [-0.6375835537910461, -0.6248117685317993, 0.2516292929649353, 0.05882471054792404, -0.1647091805934906, 0.2580658197402954, 0.14011691510677338, 0.5008559226989746], [0.6470352411270142, -0.16067199409008026, -0.5950688123703003, -0.5040922164916992, 0.001959596062079072, -0.14023292064666748, -0.38407811522483826, 0.6120848059654236]]\n"
     ]
    }
   ],
   "source": [
    "print(m.layers[0].w)"
   ]
  },
  {
   "cell_type": "code",
   "execution_count": 5,
   "id": "7b2fb9f0",
   "metadata": {},
   "outputs": [
    {
     "name": "stdout",
     "output_type": "stream",
     "text": [
      "Epoch 0, Loss: [[6.999999523162842]]\n",
      "Epoch 1, Loss: [[6.991400241851807]]\n",
      "Epoch 2, Loss: [[6.979496479034424]]\n",
      "Epoch 3, Loss: [[6.965109825134277]]\n",
      "Epoch 4, Loss: [[6.948617458343506]]\n",
      "Epoch 5, Loss: [[6.9302520751953125]]\n",
      "Epoch 6, Loss: [[6.910172939300537]]\n",
      "Epoch 7, Loss: [[6.888489246368408]]\n",
      "Epoch 8, Loss: [[6.865278244018555]]\n",
      "Epoch 9, Loss: [[6.840594291687012]]\n",
      "Epoch 10, Loss: [[6.814477443695068]]\n",
      "Epoch 11, Loss: [[6.786952972412109]]\n",
      "Epoch 12, Loss: [[6.7579874992370605]]\n",
      "Epoch 13, Loss: [[6.727555751800537]]\n",
      "Epoch 14, Loss: [[6.696090221405029]]\n",
      "Epoch 15, Loss: [[6.663057804107666]]\n",
      "Epoch 16, Loss: [[6.628650665283203]]\n",
      "Epoch 17, Loss: [[6.592858791351318]]\n",
      "Epoch 18, Loss: [[6.555678844451904]]\n",
      "Epoch 19, Loss: [[6.517096519470215]]\n",
      "Epoch 20, Loss: [[6.477100849151611]]\n",
      "Epoch 21, Loss: [[6.435676097869873]]\n",
      "Epoch 22, Loss: [[6.3928070068359375]]\n",
      "Epoch 23, Loss: [[6.348477363586426]]\n",
      "Epoch 24, Loss: [[6.302667617797852]]\n",
      "Epoch 25, Loss: [[6.255360126495361]]\n",
      "Epoch 26, Loss: [[6.206536293029785]]\n",
      "Epoch 27, Loss: [[6.1561737060546875]]\n",
      "Epoch 28, Loss: [[6.104251861572266]]\n",
      "Epoch 29, Loss: [[6.050595760345459]]\n",
      "Epoch 30, Loss: [[5.995656967163086]]\n",
      "Epoch 31, Loss: [[5.938943386077881]]\n",
      "Epoch 32, Loss: [[5.880589008331299]]\n",
      "Epoch 33, Loss: [[5.820573806762695]]\n",
      "Epoch 34, Loss: [[5.7588791847229]]\n",
      "Epoch 35, Loss: [[5.69548225402832]]\n",
      "Epoch 36, Loss: [[5.6295485496521]]\n",
      "Epoch 37, Loss: [[5.5687127113342285]]\n",
      "Epoch 38, Loss: [[5.505911827087402]]\n",
      "Epoch 39, Loss: [[5.441330432891846]]\n",
      "Epoch 40, Loss: [[5.374946117401123]]\n",
      "Epoch 41, Loss: [[5.30673360824585]]\n",
      "Epoch 42, Loss: [[5.236675262451172]]\n",
      "Epoch 43, Loss: [[5.164762496948242]]\n",
      "Epoch 44, Loss: [[5.090988636016846]]\n",
      "Epoch 45, Loss: [[5.015352249145508]]\n",
      "Epoch 46, Loss: [[4.937856197357178]]\n",
      "Epoch 47, Loss: [[4.858503341674805]]\n",
      "Epoch 48, Loss: [[4.777299404144287]]\n",
      "Epoch 49, Loss: [[4.694251537322998]]\n",
      "Epoch 50, Loss: [[4.610053062438965]]\n",
      "Epoch 51, Loss: [[4.533647060394287]]\n",
      "Epoch 52, Loss: [[4.457070350646973]]\n",
      "Epoch 53, Loss: [[4.378766059875488]]\n",
      "Epoch 54, Loss: [[4.298698902130127]]\n",
      "Epoch 55, Loss: [[4.216852188110352]]\n",
      "Epoch 56, Loss: [[4.1332244873046875]]\n",
      "Epoch 57, Loss: [[4.047825813293457]]\n",
      "Epoch 58, Loss: [[3.9606802463531494]]\n",
      "Epoch 59, Loss: [[3.871817111968994]]\n",
      "Epoch 60, Loss: [[3.7812771797180176]]\n",
      "Epoch 61, Loss: [[3.6891050338745117]]\n",
      "Epoch 62, Loss: [[3.595350980758667]]\n",
      "Epoch 63, Loss: [[3.500065565109253]]\n",
      "Epoch 64, Loss: [[3.40830659866333]]\n",
      "Epoch 65, Loss: [[3.3221356868743896]]\n",
      "Epoch 66, Loss: [[3.234700918197632]]\n",
      "Epoch 67, Loss: [[3.146005868911743]]\n",
      "Epoch 68, Loss: [[3.056069850921631]]\n",
      "Epoch 69, Loss: [[2.968005895614624]]\n",
      "Epoch 70, Loss: [[2.884392738342285]]\n",
      "Epoch 71, Loss: [[2.799769639968872]]\n",
      "Epoch 72, Loss: [[2.71417236328125]]\n",
      "Epoch 73, Loss: [[2.627645969390869]]\n",
      "Epoch 74, Loss: [[2.5402438640594482]]\n",
      "Epoch 75, Loss: [[2.4520254135131836]]\n",
      "Epoch 76, Loss: [[2.363323926925659]]\n",
      "Epoch 77, Loss: [[2.2801637649536133]]\n",
      "Epoch 78, Loss: [[2.198258638381958]]\n",
      "Epoch 79, Loss: [[2.1241071224212646]]\n",
      "Epoch 80, Loss: [[2.053971529006958]]\n",
      "Epoch 81, Loss: [[1.9837194681167603]]\n",
      "Epoch 82, Loss: [[1.9222285747528076]]\n",
      "Epoch 83, Loss: [[1.8645979166030884]]\n",
      "Epoch 84, Loss: [[1.8070971965789795]]\n",
      "Epoch 85, Loss: [[1.7497856616973877]]\n",
      "Epoch 86, Loss: [[1.69270920753479]]\n",
      "Epoch 87, Loss: [[1.635901689529419]]\n",
      "Epoch 88, Loss: [[1.5860180854797363]]\n",
      "Epoch 89, Loss: [[1.549289345741272]]\n",
      "Epoch 90, Loss: [[1.5252861976623535]]\n",
      "Epoch 91, Loss: [[1.5063540935516357]]\n",
      "Epoch 92, Loss: [[1.4867674112319946]]\n",
      "Epoch 93, Loss: [[1.4657847881317139]]\n",
      "Epoch 94, Loss: [[1.4437905550003052]]\n",
      "Epoch 95, Loss: [[1.4210562705993652]]\n",
      "Epoch 96, Loss: [[1.4057846069335938]]\n",
      "Epoch 97, Loss: [[1.391058087348938]]\n",
      "Epoch 98, Loss: [[1.3758251667022705]]\n",
      "Epoch 99, Loss: [[1.3620288372039795]]\n"
     ]
    }
   ],
   "source": [
    "for i in range(100):\n",
    "    z=m(X)\n",
    "    loss=F.mean_absolute_error(y,z)\n",
    "    optim.zero_grad(set_to_none=True)\n",
    "    loss.backward()    \n",
    "    print(f\"Epoch {i}, Loss: {loss}\")\n",
    "    optim.step()"
   ]
  },
  {
   "cell_type": "code",
   "execution_count": 6,
   "id": "4cc4a091",
   "metadata": {},
   "outputs": [
    {
     "name": "stdout",
     "output_type": "stream",
     "text": [
      "[[-0.094978466629982, 0.39208367466926575, -1.204923391342163, 0.9246472716331482, -0.7280697822570801, 0.306770920753479, 0.05805277079343796, 0.905455470085144], [0.20606379210948944, 0.5714223980903625, -1.2255041599273682, 1.2433363199234009, -1.093522310256958, -0.10723502933979034, -0.1763601452112198, 0.2525697350502014], [-1.0167080163955688, -0.36320218443870544, -0.604416012763977, 0.9235413670539856, -0.977214515209198, 0.5758801102638245, 0.5426807999610901, 1.365809679031372], [0.26514163613319397, 0.10467658936977386, -1.4577953815460205, 0.3670705556869507, -0.8181238770484924, 0.182611882686615, 0.021070297807455063, 1.4833612442016602]]\n"
     ]
    }
   ],
   "source": [
    "print(m.layers[0].w)"
   ]
  },
  {
   "cell_type": "code",
   "execution_count": 7,
   "id": "7dcc8471",
   "metadata": {},
   "outputs": [
    {
     "data": {
      "text/plain": [
       "[[6.80731725692749], [8.06432056427002]]"
      ]
     },
     "execution_count": 7,
     "metadata": {},
     "output_type": "execute_result"
    }
   ],
   "source": [
    "x_test=[[000,100,200,300],[100,200,300,400]]\n",
    "x_test=Matrics(x_test)\n",
    "m(x_test)"
   ]
  },
  {
   "cell_type": "code",
   "execution_count": 8,
   "id": "787f531b",
   "metadata": {},
   "outputs": [],
   "source": [
    "m.save()"
   ]
  },
  {
   "cell_type": "code",
   "execution_count": 9,
   "id": "fad0d9dd",
   "metadata": {},
   "outputs": [
    {
     "data": {
      "text/plain": [
       "[[6.80731725692749], [8.06432056427002]]"
      ]
     },
     "execution_count": 9,
     "metadata": {},
     "output_type": "execute_result"
    }
   ],
   "source": [
    "from util.util_for_file import load_obj\n",
    "model = load_obj()\n",
    "model(x_test)"
   ]
  },
  {
   "cell_type": "code",
   "execution_count": 10,
   "id": "11a0801e",
   "metadata": {},
   "outputs": [],
   "source": [
    "# [[4.598463535308838], [5.832486152648926]]"
   ]
  }
 ],
 "metadata": {
  "kernelspec": {
   "display_name": "venv",
   "language": "python",
   "name": "python3"
  },
  "language_info": {
   "codemirror_mode": {
    "name": "ipython",
    "version": 3
   },
   "file_extension": ".py",
   "mimetype": "text/x-python",
   "name": "python",
   "nbconvert_exporter": "python",
   "pygments_lexer": "ipython3",
   "version": "3.13.7"
  }
 },
 "nbformat": 4,
 "nbformat_minor": 5
}

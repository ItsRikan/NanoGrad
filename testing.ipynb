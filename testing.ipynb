{
 "cells": [
  {
   "cell_type": "code",
   "execution_count": 1,
   "id": "2d623d0c",
   "metadata": {},
   "outputs": [],
   "source": [
    "from engine import Matrics\n",
    "from nn import Linear , SGD\n",
    "import functional as F"
   ]
  },
  {
   "cell_type": "code",
   "execution_count": 2,
   "id": "1bc930b7",
   "metadata": {},
   "outputs": [],
   "source": [
    "m1=Linear(4,32)\n",
    "m2=Linear(32,1)"
   ]
  },
  {
   "cell_type": "code",
   "execution_count": 3,
   "id": "e6e3f49f",
   "metadata": {},
   "outputs": [],
   "source": [
    "X=[[1,2,3,4],[2,3,4,5],[3,4,5,6],[4,5,6,7],[5,6,7,8]]\n",
    "y=[5,6,7,8,9]\n",
    "X=Matrics(X)\n",
    "y=Matrics(y)\n",
    "optim=SGD(m1.parameters() + m2.parameters(),learnning_rate=0.0001)"
   ]
  },
  {
   "cell_type": "code",
   "execution_count": null,
   "id": "7b2fb9f0",
   "metadata": {},
   "outputs": [
    {
     "name": "stdout",
     "output_type": "stream",
     "text": [
      "[[139537.359375]]\n",
      "[[11703995.0]]\n",
      "[[11309550592.0]]\n",
      "[[2.0220401464847106e+19]]\n",
      "[[inf]]\n",
      "[[nan]]\n",
      "[[nan]]\n",
      "[[nan]]\n",
      "[[nan]]\n",
      "[[nan]]\n"
     ]
    },
    {
     "name": "stderr",
     "output_type": "stream",
     "text": [
      "d:\\Programming\\Python\\MachineLearning\\ML From Scratch\\NanoGrad\\engine.py:99: RuntimeWarning: overflow encountered in power\n",
      "  out = Matrics(np.power(self.matrics,power),(self,))\n",
      "d:\\Programming\\Python\\MachineLearning\\ML From Scratch\\NanoGrad\\engine.py:89: RuntimeWarning: overflow encountered in matmul\n",
      "  out = Matrics((self.matrics @ other.matrics),(self,other))\n",
      "d:\\Programming\\Python\\MachineLearning\\ML From Scratch\\NanoGrad\\engine.py:89: RuntimeWarning: invalid value encountered in matmul\n",
      "  out = Matrics((self.matrics @ other.matrics),(self,other))\n"
     ]
    }
   ],
   "source": [
    "for i in range(10):\n",
    "    z1=m1(X)\n",
    "    z2=m2(z1)\n",
    "    loss=F.mean_square_error(y,z2)\n",
    "    optim.zero_grad(set_to_none=True)\n",
    "    loss.backward()\n",
    "    optim.step()\n",
    "    print(loss)"
   ]
  },
  {
   "cell_type": "code",
   "execution_count": null,
   "id": "e1f76939",
   "metadata": {},
   "outputs": [],
   "source": []
  },
  {
   "cell_type": "code",
   "execution_count": 5,
   "id": "7dcc8471",
   "metadata": {},
   "outputs": [
    {
     "ename": "NameError",
     "evalue": "name 'm' is not defined",
     "output_type": "error",
     "traceback": [
      "\u001b[31m---------------------------------------------------------------------------\u001b[39m",
      "\u001b[31mNameError\u001b[39m                                 Traceback (most recent call last)",
      "\u001b[36mCell\u001b[39m\u001b[36m \u001b[39m\u001b[32mIn[5]\u001b[39m\u001b[32m, line 3\u001b[39m\n\u001b[32m      1\u001b[39m x_test=[[\u001b[32m10\u001b[39m,\u001b[32m11\u001b[39m,\u001b[32m12\u001b[39m,\u001b[32m13\u001b[39m],[\u001b[32m11\u001b[39m,\u001b[32m12\u001b[39m,\u001b[32m13\u001b[39m,\u001b[32m14\u001b[39m]]\n\u001b[32m      2\u001b[39m x_test=Matrics(x_test)\n\u001b[32m----> \u001b[39m\u001b[32m3\u001b[39m \u001b[43mm\u001b[49m(x_test)\n",
      "\u001b[31mNameError\u001b[39m: name 'm' is not defined"
     ]
    }
   ],
   "source": [
    "x_test=[[10,11,12,13],[11,12,13,14]]\n",
    "x_test=Matrics(x_test)\n",
    "m(x_test)"
   ]
  },
  {
   "cell_type": "code",
   "execution_count": null,
   "id": "787f531b",
   "metadata": {},
   "outputs": [],
   "source": []
  }
 ],
 "metadata": {
  "kernelspec": {
   "display_name": "venv",
   "language": "python",
   "name": "python3"
  },
  "language_info": {
   "codemirror_mode": {
    "name": "ipython",
    "version": 3
   },
   "file_extension": ".py",
   "mimetype": "text/x-python",
   "name": "python",
   "nbconvert_exporter": "python",
   "pygments_lexer": "ipython3",
   "version": "3.13.7"
  }
 },
 "nbformat": 4,
 "nbformat_minor": 5
}

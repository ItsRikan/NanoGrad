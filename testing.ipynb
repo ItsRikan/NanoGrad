{
 "cells": [
  {
   "cell_type": "code",
   "execution_count": 1,
   "id": "2d623d0c",
   "metadata": {},
   "outputs": [],
   "source": [
    "from engine import Matrics\n",
    "from nn import Linear"
   ]
  },
  {
   "cell_type": "code",
   "execution_count": 2,
   "id": "1bc930b7",
   "metadata": {},
   "outputs": [],
   "source": [
    "m=Linear(4,6)"
   ]
  },
  {
   "cell_type": "code",
   "execution_count": 3,
   "id": "e6e3f49f",
   "metadata": {},
   "outputs": [],
   "source": [
    "a=[[1,0,1,1],[0,1,1,1]]\n",
    "a=Matrics(a)\n",
    "out=m(a)"
   ]
  },
  {
   "cell_type": "code",
   "execution_count": 4,
   "id": "7b2fb9f0",
   "metadata": {},
   "outputs": [
    {
     "data": {
      "text/plain": [
       "[[1.0, 0.0, 1.0, 1.0], [0.0, 1.0, 1.0, 1.0]]"
      ]
     },
     "execution_count": 4,
     "metadata": {},
     "output_type": "execute_result"
    }
   ],
   "source": [
    "a"
   ]
  },
  {
   "cell_type": "code",
   "execution_count": 5,
   "id": "888d01f0",
   "metadata": {},
   "outputs": [
    {
     "name": "stdout",
     "output_type": "stream",
     "text": [
      "[[1. 1. 1. 1. 1. 1.]\n",
      " [1. 1. 1. 1. 1. 1.]]\n",
      "[[ 0.01626414 -1.4950491  -0.20731798 -0.55432326]\n",
      " [ 0.01626414 -1.4950491  -0.20731798 -0.55432326]]\n"
     ]
    }
   ],
   "source": [
    "out.backward()\n",
    "print(out.grad)\n",
    "print(a.grad)\n",
    "#print(b.grad)\n"
   ]
  }
 ],
 "metadata": {
  "kernelspec": {
   "display_name": "venv",
   "language": "python",
   "name": "python3"
  },
  "language_info": {
   "codemirror_mode": {
    "name": "ipython",
    "version": 3
   },
   "file_extension": ".py",
   "mimetype": "text/x-python",
   "name": "python",
   "nbconvert_exporter": "python",
   "pygments_lexer": "ipython3",
   "version": "3.13.7"
  }
 },
 "nbformat": 4,
 "nbformat_minor": 5
}

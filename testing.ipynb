{
 "cells": [
  {
   "cell_type": "code",
   "execution_count": 1,
   "id": "2d623d0c",
   "metadata": {},
   "outputs": [],
   "source": [
    "from engine import Matrics\n",
    "from model import Sequential\n",
    "from nn import Linear , SGD\n",
    "from layers.activation import Tanh,ReLU\n",
    "from layers.linear import BatchNorm1D\n",
    "import functional as F\n",
    "import numpy as np"
   ]
  },
  {
   "cell_type": "code",
   "execution_count": 2,
   "id": "1bc930b7",
   "metadata": {},
   "outputs": [],
   "source": [
    "m=Sequential([Linear(4,8),BatchNorm1D(1,8),Tanh(),Linear(8,1)])"
   ]
  },
  {
   "cell_type": "code",
   "execution_count": 3,
   "id": "e6e3f49f",
   "metadata": {},
   "outputs": [],
   "source": [
    "X=[[100,200,300,400],[200,300,400,500],[300,400,500,600],[400,500,600,700],[500,600,700,800]]\n",
    "y=[5,6,7,8,9]\n",
    "X=Matrics(X)\n",
    "y=Matrics(y)\n",
    "optim=SGD(m.parameters())"
   ]
  },
  {
   "cell_type": "code",
   "execution_count": 4,
   "id": "7b2fb9f0",
   "metadata": {},
   "outputs": [
    {
     "name": "stdout",
     "output_type": "stream",
     "text": [
      "Epoch 0, Loss: [[51.00383377075195]]\n",
      "Epoch 1, Loss: [[50.171878814697266]]\n",
      "Epoch 2, Loss: [[49.580387115478516]]\n",
      "Epoch 3, Loss: [[46.56607437133789]]\n",
      "Epoch 4, Loss: [[43.835445404052734]]\n",
      "Epoch 5, Loss: [[41.325294494628906]]\n",
      "Epoch 6, Loss: [[38.98656463623047]]\n",
      "Epoch 7, Loss: [[36.780738830566406]]\n",
      "Epoch 8, Loss: [[34.67719268798828]]\n",
      "Epoch 9, Loss: [[32.651519775390625]]\n",
      "Epoch 10, Loss: [[30.684404373168945]]\n",
      "Epoch 11, Loss: [[28.761241912841797]]\n",
      "Epoch 12, Loss: [[26.872215270996094]]\n",
      "Epoch 13, Loss: [[25.012802124023438]]\n",
      "Epoch 14, Loss: [[23.18435287475586]]\n",
      "Epoch 15, Loss: [[21.394145965576172]]\n",
      "Epoch 16, Loss: [[19.654430389404297]]\n",
      "Epoch 17, Loss: [[17.980266571044922]]\n",
      "Epoch 18, Loss: [[16.38671112060547]]\n",
      "Epoch 19, Loss: [[14.886390686035156]]\n",
      "Epoch 20, Loss: [[13.488151550292969]]\n",
      "Epoch 21, Loss: [[12.196924209594727]]\n",
      "Epoch 22, Loss: [[11.755510330200195]]\n",
      "Epoch 23, Loss: [[10.602529525756836]]\n",
      "Epoch 24, Loss: [[9.566187858581543]]\n",
      "Epoch 25, Loss: [[8.638781547546387]]\n",
      "Epoch 26, Loss: [[7.812218189239502]]\n",
      "Epoch 27, Loss: [[7.0782790184021]]\n",
      "Epoch 28, Loss: [[6.428817272186279]]\n",
      "Epoch 29, Loss: [[5.855915546417236]]\n",
      "Epoch 30, Loss: [[5.352014064788818]]\n",
      "Epoch 31, Loss: [[4.90998649597168]]\n",
      "Epoch 32, Loss: [[4.523199081420898]]\n",
      "Epoch 33, Loss: [[4.185525417327881]]\n",
      "Epoch 34, Loss: [[3.8913583755493164]]\n",
      "Epoch 35, Loss: [[3.635601282119751]]\n",
      "Epoch 36, Loss: [[3.4136414527893066]]\n",
      "Epoch 37, Loss: [[3.2213351726531982]]\n",
      "Epoch 38, Loss: [[3.054974317550659]]\n",
      "Epoch 39, Loss: [[2.9112558364868164]]\n",
      "Epoch 40, Loss: [[2.7872512340545654]]\n",
      "Epoch 41, Loss: [[2.6803722381591797]]\n",
      "Epoch 42, Loss: [[2.5883429050445557]]\n",
      "Epoch 43, Loss: [[2.509165048599243]]\n",
      "Epoch 44, Loss: [[2.4410908222198486]]\n",
      "Epoch 45, Loss: [[2.3825976848602295]]\n",
      "Epoch 46, Loss: [[2.33236026763916]]\n",
      "Epoch 47, Loss: [[2.289227247238159]]\n",
      "Epoch 48, Loss: [[2.2522037029266357]]\n",
      "Epoch 49, Loss: [[2.220428228378296]]\n",
      "Epoch 50, Loss: [[2.19315767288208]]\n",
      "Epoch 51, Loss: [[2.1697518825531006]]\n",
      "Epoch 52, Loss: [[2.1496596336364746]]\n",
      "Epoch 53, Loss: [[2.1324076652526855]]\n",
      "Epoch 54, Loss: [[2.1175894737243652]]\n",
      "Epoch 55, Loss: [[2.104856014251709]]\n",
      "Epoch 56, Loss: [[2.0939083099365234]]\n",
      "Epoch 57, Loss: [[2.0844902992248535]]\n",
      "Epoch 58, Loss: [[2.076382637023926]]\n",
      "Epoch 59, Loss: [[2.069397449493408]]\n",
      "Epoch 60, Loss: [[2.0633745193481445]]\n",
      "Epoch 61, Loss: [[2.058176040649414]]\n",
      "Epoch 62, Loss: [[2.0536844730377197]]\n",
      "Epoch 63, Loss: [[2.049799919128418]]\n",
      "Epoch 64, Loss: [[2.046435594558716]]\n",
      "Epoch 65, Loss: [[2.043518304824829]]\n",
      "Epoch 66, Loss: [[2.040985107421875]]\n",
      "Epoch 67, Loss: [[2.0387818813323975]]\n",
      "Epoch 68, Loss: [[2.036863088607788]]\n",
      "Epoch 69, Loss: [[2.035188674926758]]\n",
      "Epoch 70, Loss: [[2.0337250232696533]]\n",
      "Epoch 71, Loss: [[2.0324432849884033]]\n",
      "Epoch 72, Loss: [[2.031318187713623]]\n",
      "Epoch 73, Loss: [[2.0303287506103516]]\n",
      "Epoch 74, Loss: [[2.029456853866577]]\n",
      "Epoch 75, Loss: [[2.0286858081817627]]\n",
      "Epoch 76, Loss: [[2.028003215789795]]\n",
      "Epoch 77, Loss: [[2.0273964405059814]]\n",
      "Epoch 78, Loss: [[2.0268561840057373]]\n",
      "Epoch 79, Loss: [[2.0263733863830566]]\n",
      "Epoch 80, Loss: [[2.025940418243408]]\n",
      "Epoch 81, Loss: [[2.0255513191223145]]\n",
      "Epoch 82, Loss: [[2.025200128555298]]\n",
      "Epoch 83, Loss: [[2.0248823165893555]]\n",
      "Epoch 84, Loss: [[2.0245931148529053]]\n",
      "Epoch 85, Loss: [[2.024329900741577]]\n",
      "Epoch 86, Loss: [[2.0240886211395264]]\n",
      "Epoch 87, Loss: [[2.023866891860962]]\n",
      "Epoch 88, Loss: [[2.0236623287200928]]\n",
      "Epoch 89, Loss: [[2.023473024368286]]\n",
      "Epoch 90, Loss: [[2.023297071456909]]\n",
      "Epoch 91, Loss: [[2.023132562637329]]\n",
      "Epoch 92, Loss: [[2.0229785442352295]]\n",
      "Epoch 93, Loss: [[2.022833824157715]]\n",
      "Epoch 94, Loss: [[2.0226972103118896]]\n",
      "Epoch 95, Loss: [[2.0225677490234375]]\n",
      "Epoch 96, Loss: [[2.022444725036621]]\n",
      "Epoch 97, Loss: [[2.022327184677124]]\n",
      "Epoch 98, Loss: [[2.022214889526367]]\n",
      "Epoch 99, Loss: [[2.022106885910034]]\n"
     ]
    }
   ],
   "source": [
    "for i in range(100):\n",
    "    z=m(X)\n",
    "    loss=F.mean_square_error(y,z)\n",
    "    optim.zero_grad(set_to_none=True)\n",
    "    loss.backward()\n",
    "    print(f\"Epoch {i}, Loss: {loss}\")\n",
    "    #print(m.layers[1].w.grad)\n",
    "    #print(z)\n",
    "    '''print(f\"{z2=}\")\n",
    "    print(f\"m1.w grad max: {max(abs(m1.w.grad))}\")\n",
    "    print(f\"m2.w grad max: {m2.w.grad}\")'''\n",
    "    optim.step()"
   ]
  },
  {
   "cell_type": "code",
   "execution_count": 6,
   "id": "7dcc8471",
   "metadata": {},
   "outputs": [
    {
     "data": {
      "text/plain": [
       "[[7.0313334465026855], [6.919549942016602]]"
      ]
     },
     "execution_count": 6,
     "metadata": {},
     "output_type": "execute_result"
    }
   ],
   "source": [
    "x_test=[[1000,1100,1200,1300],[1100,1200,1300,1400]]\n",
    "x_test=Matrics(x_test)\n",
    "m(x_test)"
   ]
  },
  {
   "cell_type": "code",
   "execution_count": null,
   "id": "787f531b",
   "metadata": {},
   "outputs": [],
   "source": []
  }
 ],
 "metadata": {
  "kernelspec": {
   "display_name": "venv",
   "language": "python",
   "name": "python3"
  },
  "language_info": {
   "codemirror_mode": {
    "name": "ipython",
    "version": 3
   },
   "file_extension": ".py",
   "mimetype": "text/x-python",
   "name": "python",
   "nbconvert_exporter": "python",
   "pygments_lexer": "ipython3",
   "version": "3.13.7"
  }
 },
 "nbformat": 4,
 "nbformat_minor": 5
}

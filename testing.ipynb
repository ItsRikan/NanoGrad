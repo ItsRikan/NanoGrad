{
 "cells": [
  {
   "cell_type": "code",
   "execution_count": 14,
   "id": "2d623d0c",
   "metadata": {},
   "outputs": [],
   "source": [
    "from engine import Metrics"
   ]
  },
  {
   "cell_type": "code",
   "execution_count": 23,
   "id": "e6e3f49f",
   "metadata": {},
   "outputs": [],
   "source": [
    "a=[[2,2,2,2],[2,2,2,2]]\n",
    "a=Metrics(a) * [5]\n",
    "out=a.tanh()"
   ]
  },
  {
   "cell_type": "code",
   "execution_count": 24,
   "id": "d2c20706",
   "metadata": {},
   "outputs": [
    {
     "data": {
      "text/plain": [
       "array([[10., 10., 10., 10.],\n",
       "       [10., 10., 10., 10.]], dtype=float32)"
      ]
     },
     "execution_count": 24,
     "metadata": {},
     "output_type": "execute_result"
    }
   ],
   "source": [
    "a.metrics"
   ]
  },
  {
   "cell_type": "code",
   "execution_count": 25,
   "id": "db5878ea",
   "metadata": {},
   "outputs": [
    {
     "data": {
      "text/plain": [
       "array([[1., 1., 1., 1.],\n",
       "       [1., 1., 1., 1.]], dtype=float32)"
      ]
     },
     "execution_count": 25,
     "metadata": {},
     "output_type": "execute_result"
    }
   ],
   "source": [
    "out.metrics"
   ]
  },
  {
   "cell_type": "code",
   "execution_count": 26,
   "id": "888d01f0",
   "metadata": {},
   "outputs": [
    {
     "name": "stdout",
     "output_type": "stream",
     "text": [
      "[[1. 1. 1. 1.]\n",
      " [1. 1. 1. 1.]]\n",
      "[[0. 0. 0. 0.]\n",
      " [0. 0. 0. 0.]]\n"
     ]
    }
   ],
   "source": [
    "out.backward()\n",
    "print(out.grad)\n",
    "print(a.grad)\n",
    "#print(b.grad)\n"
   ]
  }
 ],
 "metadata": {
  "kernelspec": {
   "display_name": "venv",
   "language": "python",
   "name": "python3"
  },
  "language_info": {
   "codemirror_mode": {
    "name": "ipython",
    "version": 3
   },
   "file_extension": ".py",
   "mimetype": "text/x-python",
   "name": "python",
   "nbconvert_exporter": "python",
   "pygments_lexer": "ipython3",
   "version": "3.13.7"
  }
 },
 "nbformat": 4,
 "nbformat_minor": 5
}
